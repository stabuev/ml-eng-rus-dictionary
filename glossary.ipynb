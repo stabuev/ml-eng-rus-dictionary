{
 "cells": [
  {
   "cell_type": "markdown",
   "metadata": {},
   "source": [
    "# Machine Learning Glossary / Словарь машинного обучения\n",
    "\n",
    "This glossary defines general machine learning terms as well as terms specific to TensorFlow.\n",
    "\n",
    "Этот словарь определяет как общие термины машинного обучения, так и термины специфичные для TensorFlow"
   ]
  },
  {
   "cell_type": "markdown",
   "metadata": {},
   "source": [
    "## A"
   ]
  },
  {
   "cell_type": "markdown",
   "metadata": {},
   "source": [
    "### A/B testing - A/B тестирование"
   ]
  },
  {
   "cell_type": "markdown",
   "metadata": {},
   "source": [
    "A statistical way of comparing two (or more) techniques, typically an incumbent against a new rival. A/B testing aims to determine not only which technique performs better but also to understand whether the difference is statistically significant. A/B testing usually considers only two techniques using one measurement, but it can be applied to any finite number of techniques and measures."
   ]
  },
  {
   "cell_type": "markdown",
   "metadata": {},
   "source": [
    "Статистический способ сравнения двух (и более техник), обычно текущей сравниваемой с новой. Цель A/B тестирования не только определить которая из техник работает лучше, но также понять является ли разница статистически значимой. A/B тестирование обычно рассматривает только две техники использующие одну и ту же оценку, но оно может быть применено\n",
    "к любому конечному количеству техник и систем оценок."
   ]
  },
  {
   "cell_type": "markdown",
   "metadata": {},
   "source": [
    "### accuracy - правильность"
   ]
  },
  {
   "cell_type": "markdown",
   "metadata": {},
   "source": [
    "The fraction of predictions that a classification model got right. In multi-class classification, accuracy is defined as follows:\n",
    "\n",
    "$$\n",
    "\\text{Accuracy} =\n",
    "\\frac{\\text{Correct Predictions}} {\\text{Total Number Of Examples}}\n",
    "$$\n",
    "\n",
    "In binary classification, accuracy has the following definition:\n",
    "\n",
    "$$\n",
    "\\text{Accuracy} = \\frac{\\text{True Positives} + \\text{True Negatives}}\n",
    "                         {\\text{Total Number Of Examples}}\n",
    "$$\n",
    "\n",
    "See true positive and true negative."
   ]
  },
  {
   "cell_type": "markdown",
   "metadata": {},
   "source": [
    "Доля верных прогнозов сделанных моделью. В мультиклассовой классификации, правильность определяется следующим образом:\n",
    "\n",
    "$$\n",
    "\\text{Правильность} =\n",
    "\\frac{\\text{Верные прогнозы}} {\\text{Общее число примеров}}\n",
    "$$\n",
    "\n",
    "В бинарной классификации правильность определяется следующим образом:\n",
    "\n",
    "$$\n",
    "\\text{Accuracy} = \\frac{\\text{Истинно положительные} + \\text{Истинно отрицательные}}\n",
    "                         {\\text{Общее число примеров}}\n",
    "$$\n",
    "\n",
    "См. истинно положительные прогнозы и истинно отрицательные прогнозы."
   ]
  },
  {
   "cell_type": "markdown",
   "metadata": {},
   "source": [
    "### activation function - функция активации"
   ]
  },
  {
   "cell_type": "markdown",
   "metadata": {},
   "source": [
    "A function (for example, ReLU or sigmoid) that takes in the weighted sum of all of the inputs from the previous layer and then generates and passes an output value (typically nonlinear) to the next layer.\n"
   ]
  },
  {
   "cell_type": "markdown",
   "metadata": {},
   "source": [
    "Функция (например, ReLU или сигмоида) которая берет взвешенную сумму всех входных данных предыдущего слоя нейронной сети, генерирует (обычно нелинейно) и передает выходное значение  на следующий уровень."
   ]
  },
  {
   "cell_type": "markdown",
   "metadata": {},
   "source": [
    "### active learning - активное обучение"
   ]
  },
  {
   "cell_type": "markdown",
   "metadata": {},
   "source": [
    "A training approach in which the algorithm chooses some of the data it learns from. Active learning is particularly valuable when labeled examples are scarce or expensive to obtain. Instead of blindly seeking a diverse range of labeled examples, an active learning algorithm selectively seeks the particular range of examples it needs for learning."
   ]
  },
  {
   "cell_type": "markdown",
   "metadata": {},
   "source": [
    "Подход, при котором алгоритм выбирает часть данных, на которых он учится. Активное обучение особенно ценно в тех случаях, когда маркированных примеров недостаточно или их получение обходится дорого. Вместо того, чтобы слепо искать в широком диапазоне помеченных примеров, алгоритм активногообучения выборочно рассматривает конкретный набор примеров, которые ему нужны для обучения."
   ]
  },
  {
   "cell_type": "markdown",
   "metadata": {},
   "source": [
    "### AdaGrad - AdaGrad"
   ]
  },
  {
   "cell_type": "markdown",
   "metadata": {},
   "source": [
    "A sophisticated gradient descent algorithm that rescales the gradients of each parameter, effectively giving each parameter an independent learning rate. For a full explanation, see [this paper](http://www.jmlr.org/papers/volume12/duchi11a/duchi11a.pdf)."
   ]
  },
  {
   "cell_type": "markdown",
   "metadata": {},
   "source": [
    "Сложный алгоритм градиентного спуска который перемасштабирует градиент отдельно на каждом параметре, эффективно присваивая каждому параметру независимый коэффициент обучения. Подробнее см. [эту статью](http://www.jmlr.org/papers/volume12/duchi11a/duchi11a.pdf)"
   ]
  },
  {
   "cell_type": "markdown",
   "metadata": {},
   "source": [
    "### agglomerative clustering - агломеративная кластеризация"
   ]
  },
  {
   "cell_type": "markdown",
   "metadata": {},
   "source": [
    "See hierarchical clustering."
   ]
  },
  {
   "cell_type": "markdown",
   "metadata": {},
   "source": [
    "См. иерархическую кластеризацию"
   ]
  },
  {
   "cell_type": "markdown",
   "metadata": {},
   "source": [
    "### AUC (Area under the ROC Curve) - AUC (площадь под ROC-кривой)"
   ]
  },
  {
   "cell_type": "markdown",
   "metadata": {},
   "source": [
    "An evaluation metric that considers all possible classification thresholds.\n",
    "\n",
    "The Area Under the ROC curve is the probability that a classifier will be more confident that a randomly chosen positive example is actually positive than that a randomly chosen negative example is positive."
   ]
  },
  {
   "cell_type": "markdown",
   "metadata": {},
   "source": [
    "Метрика оценки рассматривающая все возможные пороги классификации.\n",
    "\n",
    "Площадь под ROC-кривой это вероятность того, что классификатор будет лучше определять, что случайно выбранный положительный пример действительно положителен чем то что случайно выбранный отрицательный пример положителен."
   ]
  },
  {
   "cell_type": "markdown",
   "metadata": {},
   "source": [
    "### automation bias - смещение автоматизации"
   ]
  },
  {
   "cell_type": "markdown",
   "metadata": {},
   "source": [
    "When a human decision maker favors recommendations made by an automated decision-making system over information made without automation, even when the automated decision-making system makes errors."
   ]
  },
  {
   "cell_type": "markdown",
   "metadata": {},
   "source": [
    "Ситуация когда человек, принимающий решения, предпочитает рекомендации, сделанные автоматизированной системой принятия решений, рекомендациям полученной без автоматизации, даже в том случае когда автоматизированная система принятия решений допускает ошибки."
   ]
  },
  {
   "cell_type": "markdown",
   "metadata": {},
   "source": [
    "## B"
   ]
  },
  {
   "cell_type": "markdown",
   "metadata": {},
   "source": [
    "### backpropagation - обратное распространение ошибки"
   ]
  },
  {
   "cell_type": "markdown",
   "metadata": {},
   "source": [
    "The primary algorithm for performing gradient descent on neural networks. First, the output values of each node are calculated (and cached) in a forward pass. Then, the partial derivative of the error with respect to each parameter is calculated in a backward pass through the graph."
   ]
  },
  {
   "cell_type": "markdown",
   "metadata": {},
   "source": [
    "Основной алгоритм  градиентного спуска в нейронных сетях. Сначала выходные значения каждого узла вычисляются (и кэшируются) в прямом проходе. Затем частная производная ошибки относительно каждого параметра вычисляется при обратном проходе по графу."
   ]
  },
  {
   "cell_type": "markdown",
   "metadata": {},
   "source": [
    "### bag of words - мешок слов"
   ]
  },
  {
   "cell_type": "markdown",
   "metadata": {},
   "source": [
    "A representation of the words in a phrase or passage, irrespective of order. For example, bag of words represents the following three phrases identically:\n",
    "\n",
    "- the dog jumps\n",
    "- jumps the dog\n",
    "- dog jumps the\n",
    "\n",
    "Each word is mapped to an index in a sparse vector, where the vector has an index for every word in the vocabulary. For example, the phrase the dog jumps is mapped into a feature vector with non-zero values at the three indices corresponding to the words the, dog, and jumps. The non-zero value can be any of the following:\n",
    "\n",
    "- A 1 to indicate the presence of a word.\n",
    "- A count of the number of times a word appears in the bag. For example, if the phrase were the maroon dog is a dog with maroon fur, then both maroon and dog would be represented as 2, while the other words would be represented as 1.\n",
    "- Some other value, such as the logarithm of the count of the number of times a word appears in the bag."
   ]
  },
  {
   "cell_type": "markdown",
   "metadata": {},
   "source": [
    "Представление слов во фразе или пассаже, не зависящее от порядка. Например, мешок слов представляет следующие три фразы одинаково:\n",
    "\n",
    "- собака прыгает высоко\n",
    "- прыгает высоко собака\n",
    "- высоко собака прыгает\n",
    "\n",
    "Каждому слову ставится в соответствие индекс в разреженном векторе, где вектор имеет индекс для каждого слова в словаре. \n",
    "\n",
    "Например, фраза «собака прыгает высоко» отображается в вектор признаков с ненулевыми значениями в трех индексах, соответствующих словам «собака», «прыгает» и «высоко». Ненулевое значение может быть любым из следующих:\n",
    "\n",
    "- Единица указывающая на наличие слова.\n",
    "- Число показывающее количество раз, когда слово появляется в мешке . Например, во фразе «бордовая собака - это собака с бордовой шерстью», слова «бордовый» и «собака» будут представлены как 2, а другие слова будут представлены как 1.\n",
    "- Другое значение, такое как логарифм количества раз, когда слово появляется в мешке.\n"
   ]
  },
  {
   "cell_type": "code",
   "execution_count": null,
   "metadata": {},
   "outputs": [],
   "source": []
  }
 ],
 "metadata": {
  "kernelspec": {
   "display_name": "Python 3",
   "language": "python",
   "name": "python3"
  },
  "language_info": {
   "codemirror_mode": {
    "name": "ipython",
    "version": 3
   },
   "file_extension": ".py",
   "mimetype": "text/x-python",
   "name": "python",
   "nbconvert_exporter": "python",
   "pygments_lexer": "ipython3",
   "version": "3.6.6"
  }
 },
 "nbformat": 4,
 "nbformat_minor": 2
}

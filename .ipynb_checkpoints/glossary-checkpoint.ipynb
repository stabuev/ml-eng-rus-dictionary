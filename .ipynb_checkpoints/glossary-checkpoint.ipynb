{
 "cells": [
  {
   "cell_type": "markdown",
   "metadata": {},
   "source": [
    "# Machine Learning Glossary / Словарь машинного обучения\n",
    "\n",
    "This glossary defines general machine learning terms as well as terms specific to TensorFlow.\n",
    "\n",
    "Этот словарь определяет как общие термины машинного обучения, так и термины специфичные для TensorFlow"
   ]
  },
  {
   "cell_type": "markdown",
   "metadata": {},
   "source": [
    "## A"
   ]
  },
  {
   "cell_type": "markdown",
   "metadata": {},
   "source": [
    "### A/B testing - A/B тестирование"
   ]
  },
  {
   "cell_type": "markdown",
   "metadata": {},
   "source": [
    "A statistical way of comparing two (or more) techniques, typically an incumbent against a new rival. A/B testing aims to determine not only which technique performs better but also to understand whether the difference is statistically significant. A/B testing usually considers only two techniques using one measurement, but it can be applied to any finite number of techniques and measures."
   ]
  },
  {
   "cell_type": "markdown",
   "metadata": {},
   "source": [
    "Статистический способ сравнения двух (и более техник), обычно текущей сравниваемой с новой. Цель A/B тестирования не только определить которая из техник работает лучше, но также понять является ли разница статистически значимой. A/B тестирование обычно рассматривает только две техники использующие одну и ту же оценку, но оно может быть применено\n",
    "к любому конечному количеству техник и систем оценок."
   ]
  },
  {
   "cell_type": "markdown",
   "metadata": {},
   "source": [
    "### accuracy - правильность"
   ]
  },
  {
   "cell_type": "markdown",
   "metadata": {},
   "source": [
    "The fraction of predictions that a classification model got right. In multi-class classification, accuracy is defined as follows:\n",
    "\n",
    "$$\n",
    "\\text{Accuracy} =\n",
    "\\frac{\\text{Correct Predictions}} {\\text{Total Number Of Examples}}\n",
    "$$\n",
    "\n",
    "In binary classification, accuracy has the following definition:\n",
    "\n",
    "$$\n",
    "\\text{Accuracy} = \\frac{\\text{True Positives} + \\text{True Negatives}}\n",
    "                         {\\text{Total Number Of Examples}}\n",
    "$$\n",
    "\n",
    "See true positive and true negative."
   ]
  },
  {
   "cell_type": "markdown",
   "metadata": {},
   "source": [
    "Доля верных прогнозов сделанных моделью. В мультиклассовой классификации, правильность определяется следующим образом:\n",
    "\n",
    "$$\n",
    "\\text{Правильность} =\n",
    "\\frac{\\text{Верные прогнозы}} {\\text{Общее число примеров}}\n",
    "$$\n",
    "\n",
    "В бинарной классификации правильность определяется следующим образом:\n",
    "\n",
    "$$\n",
    "\\text{Accuracy} = \\frac{\\text{Истинно положительные} + \\text{Истинно отрицательные}}\n",
    "                         {\\text{Общее число примеров}}\n",
    "$$\n",
    "\n",
    "См. истинно положительные прогнозы и истинно отрицательные прогнозы."
   ]
  },
  {
   "cell_type": "code",
   "execution_count": null,
   "metadata": {},
   "outputs": [],
   "source": []
  }
 ],
 "metadata": {
  "kernelspec": {
   "display_name": "Python 3",
   "language": "python",
   "name": "python3"
  },
  "language_info": {
   "codemirror_mode": {
    "name": "ipython",
    "version": 3
   },
   "file_extension": ".py",
   "mimetype": "text/x-python",
   "name": "python",
   "nbconvert_exporter": "python",
   "pygments_lexer": "ipython3",
   "version": "3.6.6"
  }
 },
 "nbformat": 4,
 "nbformat_minor": 2
}
